{
 "cells": [
  {
   "cell_type": "markdown",
   "metadata": {},
   "source": [
    "# TMA4320 Biophysics project - Getting started\n",
    "\n",
    "This short notebook serves as supplementary material to the main project description. It is a prerequisite to have read the this description to understand the symbols used here. \n",
    "\n",
    "We will cover how to move monomers on a grid, using functionality you will develop in the first three exercises. **NB!** This means that you must develop these functions on your own, before running this notebook. \n",
    "\n",
    "We will also briefly show you how the Python library *numba* works, which is a library that will help you speed up your code considerably. "
   ]
  },
  {
   "cell_type": "code",
   "execution_count": 1,
   "metadata": {},
   "outputs": [
    {
     "ename": "ModuleNotFoundError",
     "evalue": "No module named 'secret_vitber_library'",
     "output_type": "error",
     "traceback": [
      "\u001b[1;31m---------------------------------------------------------------------------\u001b[0m",
      "\u001b[1;31mModuleNotFoundError\u001b[0m                       Traceback (most recent call last)",
      "\u001b[1;32m<ipython-input-1-0915a1e3371f>\u001b[0m in \u001b[0;36m<module>\u001b[1;34m\u001b[0m\n\u001b[0;32m      1\u001b[0m \u001b[1;31m# First we import the functions you will develop in 1a), 1b), and 1c)\u001b[0m\u001b[1;33m\u001b[0m\u001b[1;33m\u001b[0m\u001b[1;33m\u001b[0m\u001b[0m\n\u001b[1;32m----> 2\u001b[1;33m \u001b[1;32mfrom\u001b[0m \u001b[0msecret_vitber_library\u001b[0m \u001b[1;32mimport\u001b[0m \u001b[0mgenerate_grid_of_monomers\u001b[0m\u001b[1;33m,\u001b[0m \u001b[0mvisualize_grid\u001b[0m\u001b[1;33m,\u001b[0m \u001b[0mget_neighbors_coordinates\u001b[0m\u001b[1;33m\u001b[0m\u001b[1;33m\u001b[0m\u001b[0m\n\u001b[0m\u001b[0;32m      3\u001b[0m \u001b[1;33m\u001b[0m\u001b[0m\n\u001b[0;32m      4\u001b[0m \u001b[1;32mimport\u001b[0m \u001b[0mnumpy\u001b[0m \u001b[1;32mas\u001b[0m \u001b[0mnp\u001b[0m\u001b[1;33m\u001b[0m\u001b[1;33m\u001b[0m\u001b[0m\n\u001b[0;32m      5\u001b[0m \u001b[1;32mimport\u001b[0m \u001b[0mmatplotlib\u001b[0m\u001b[1;33m.\u001b[0m\u001b[0mpyplot\u001b[0m \u001b[1;32mas\u001b[0m \u001b[0mplt\u001b[0m\u001b[1;33m\u001b[0m\u001b[1;33m\u001b[0m\u001b[0m\n",
      "\u001b[1;31mModuleNotFoundError\u001b[0m: No module named 'secret_vitber_library'"
     ]
    }
   ],
   "source": [
    "# First we import the functions you will develop in 1a), 1b), and 1c)\n",
    "from secret_vitber_library import generate_grid_of_monomers, visualize_grid, get_neighbors_coordinates\n",
    "\n",
    "import numpy as np\n",
    "import matplotlib.pyplot as plt\n"
   ]
  },
  {
   "cell_type": "markdown",
   "metadata": {},
   "source": [
    "Let's see how the the functions from the first two exercises work."
   ]
  },
  {
   "cell_type": "code",
   "execution_count": null,
   "metadata": {},
   "outputs": [],
   "source": [
    "grid = generate_grid_of_monomers(N=10, M=10)"
   ]
  },
  {
   "cell_type": "code",
   "execution_count": null,
   "metadata": {
    "scrolled": false
   },
   "outputs": [],
   "source": [
    "print(grid)\n",
    "visualize_grid(grid)"
   ]
  },
  {
   "cell_type": "markdown",
   "metadata": {},
   "source": [
    "The following function serve as an example on how monomers can be moved on a grid. As input, it takes the grid containing the positions of the monomers, a value specifying which monomer that is to be moved. The last argument is the direction the monomer is moved. If the monomer tries to move to a position already occupied by a different monomer, the move is prohibited, and the monomer remains in place. "
   ]
  },
  {
   "cell_type": "code",
   "execution_count": null,
   "metadata": {},
   "outputs": [],
   "source": [
    "# We use the convention for directions: 0 = right, 1= left, 2=up, 3=down\n",
    "# If we try to move monomers on top of a different monomer, nothing happens (This is an illegal move)\n",
    "def move_monomer(grid, monomer_value, direction):\n",
    "    # First we need to find the coordinates of the monomer we want to move\n",
    "    # np.argwhere returns an array of all the coordinates that fulfill grid==monomer_value\n",
    "    # Because there is only one grid point fulfilling grid==monomer_value, we extract the first element\n",
    "    monomer_coordinates = np.argwhere(grid==monomer_value)[0] \n",
    "\n",
    "    N = grid.shape[0] # Finding the size of the grid\n",
    "    # Now we find the coordiates of the neighboring grid point in the desired direction (using function from 1c)\n",
    "    array_of_all_neighbor_coordinates = get_neighbors_coordinates(N=N, i=monomer_coordinates[0],\n",
    "                                                                 j=monomer_coordinates[1])\n",
    "    desired_neigbor_coordinate = array_of_all_neighbor_coordinates[direction]\n",
    "    \n",
    "    # Now we check if there is solvent (i.e. a zero) at the desired coordinate\n",
    "    # meaning that we can move our monomer\n",
    "    if grid[desired_neigbor_coordinate[0], desired_neigbor_coordinate[1]]==0:\n",
    "        grid[desired_neigbor_coordinate[0], desired_neigbor_coordinate[1]] = monomer_value # moving the monomer\n",
    "        grid[monomer_coordinates[0], monomer_coordinates[1]] = 0 #replacing old position of the monomer with solvent\n",
    "\n",
    "       "
   ]
  },
  {
   "cell_type": "code",
   "execution_count": null,
   "metadata": {},
   "outputs": [],
   "source": [
    "# Let's move the postively charged monomer in the center on the bottom row\n",
    "# (marked by monomer_value=9) downwards (direction =3)\n",
    "move_monomer(grid, monomer_value=10, direction=3)\n",
    "visualize_grid(grid)"
   ]
  },
  {
   "cell_type": "markdown",
   "metadata": {},
   "source": [
    "Note the effect of the periodic boundary conditions, as the monomer is moved to the top row."
   ]
  },
  {
   "cell_type": "code",
   "execution_count": null,
   "metadata": {},
   "outputs": [],
   "source": [
    "#Let's make a dummy function that tries to move a random monomer in a random direction K times\n",
    "def move_monomers_K_times(grid, K, M):\n",
    "    for i in range(K):\n",
    "        #Generates a random integer between 0 and 3 (low is inclusive, high is not)\n",
    "        random_direction = np.random.randint(low=0, high=4) \n",
    "        # For generating a random monomer value, we generate the magntitude and sign seperately.\n",
    "        magnitude = np.random.randint(1, M + 1)\n",
    "        sign = 2 * np.random.randint(0, 2) - 1 # Easy way to generate random sign\n",
    "        move_monomer(grid, sign*magnitude, random_direction)\n",
    "        "
   ]
  },
  {
   "cell_type": "markdown",
   "metadata": {},
   "source": [
    "# *numba* and *jit*\n",
    "\n",
    "The Python library *numba* allows Python to reach speeds comparable to more low-level languages as C++ or Fortran, without any of the hassle often associated with these languages. The Python-syntax remains the same. \n",
    "\n",
    "To use *jit* (the main feature of *numa*), simply write\n",
    "\n",
    "```\n",
    "@jit(nopython = True)\n",
    "```\n",
    "in the line directly above a function. When the Python interpreter sees this command, it will compile the entire function. If this function is used many times, this means that Python uses the readily compiled function in stead of working line by line. This has the potential of saving a lot of time, and the beauty of *jit* is that it happens behind the scenes, you only need the simple command above. \n",
    "\n",
    "In this project, it will be beneficial to use *jit*, as it will allow you to study larger systems to a higher degree of accuracy. If you decide not to use *jit*, you will still be able to complete the project and get full marks, but your code will be slower, your results less reliable, and you will be limited to smaller systems. This is fine, but then I expect you to comment on the uncertainty in your results. \n",
    "\n",
    "Below is a simple example showing how *jit* works, and demonstrating the speedup one obtains by using it on the dummy function defined in the previous cell."
   ]
  },
  {
   "cell_type": "code",
   "execution_count": null,
   "metadata": {},
   "outputs": [],
   "source": [
    "# Remove the # below to install numba if you do not have it already\n",
    "#%pip install numba\n",
    "from numba import jit\n",
    "from numba.core.errors import NumbaDeprecationWarning, NumbaPendingDeprecationWarning\n",
    "import warnings\n",
    "\n",
    "# Remove annoying deprecation warnings\n",
    "warnings.simplefilter('ignore', category=NumbaDeprecationWarning)\n",
    "warnings.simplefilter('ignore', category=NumbaPendingDeprecationWarning)"
   ]
  },
  {
   "cell_type": "code",
   "execution_count": null,
   "metadata": {},
   "outputs": [],
   "source": [
    "#Lets's create numba versions of the same functions\n",
    "@jit(nopython=True)\n",
    "def move_monomer_fast(grid, monomer_value, direction):\n",
    "    monomer_coordinates = np.argwhere(grid==monomer_value)[0] \n",
    "    \n",
    "    N = grid.shape[0]\n",
    "    array_of_all_neighbor_coordinates = get_neighbors_coordinates(N=N, i=monomer_coordinates[0],\n",
    "                                                                 j=monomer_coordinates[1])\n",
    "    desired_neigbor_coordinate = array_of_all_neighbor_coordinates[direction]\n",
    "\n",
    "    if grid[desired_neigbor_coordinate[0], desired_neigbor_coordinate[1]]==0:\n",
    "        grid[desired_neigbor_coordinate[0], desired_neigbor_coordinate[1]] = monomer_value\n",
    "        grid[monomer_coordinates[0], monomer_coordinates[1]] = 0\n",
    "        \n",
    "@jit(nopython=True)\n",
    "def move_monomers_K_times_fast(grid, K, M):\n",
    "    for i in range(K):\n",
    "        random_direction = np.random.randint(low=0, high=4) \n",
    "        magnitude = np.random.randint(1, M + 1)\n",
    "        sign = 2 * np.random.randint(0, 2) - 1 \n",
    "        move_monomer_fast(grid, sign*magnitude, random_direction)\n"
   ]
  },
  {
   "cell_type": "code",
   "execution_count": null,
   "metadata": {},
   "outputs": [],
   "source": [
    "K=10000\n",
    "N = 10\n",
    "M = 10\n",
    "test_grid = generate_grid_of_monomers(N, M)\n",
    "%timeit move_monomers_K_times(test_grid, K=K, M=M)"
   ]
  },
  {
   "cell_type": "code",
   "execution_count": null,
   "metadata": {},
   "outputs": [],
   "source": [
    "K=10000\n",
    "N = 10\n",
    "M = 10\n",
    "test_grid = generate_grid_of_monomers(N, M)\n",
    "%timeit move_monomers_K_times_fast(test_grid, K=K, M=M)"
   ]
  },
  {
   "cell_type": "markdown",
   "metadata": {},
   "source": [
    "The jitted functions roughly 20 times faster, not bad! This speedup increases even further once you start to have more complex functions than the simple one presented here. "
   ]
  },
  {
   "cell_type": "markdown",
   "metadata": {},
   "source": [
    "## *jit* pitfalls\n",
    "* All function calls in a jitted function must also be jitted. \n",
    "* *jit* works fine with numpy, but it does not work with *matplotlib*, so never plot in a function that is jitted.\n",
    "* Do not use empty lists, always specify how large your arrays are.\n",
    "* Specify the type of your arrays. This is especially important when you want the *grid* variable to only contain integers. Specifying that your array contains integers can be done in the following way ```grid = np.zeros((N, N), dtype=np.dtype('i2'))```, where the last argument specifies that the variables in *grid* are 2-byte integers.\n",
    "* If you want to make a copy of an array or grid, use the following syntax ```new_grid = grid.copy()```\n",
    "* Functions that have been \"jitted\" will give confusing error messages. Thus, to debug your code efficiently, it is a good idea to develop a fully functioning framework before you jit all the necessary functions. The error messages from ordinary Python are far easier to understand. "
   ]
  },
  {
   "cell_type": "markdown",
   "metadata": {},
   "source": [
    "# General tips\n",
    "\n",
    "* Write structured code (easier said than done, I know) with informative variable names. Include comments in your code. This will help you understand and evaluate your own code and help me understand your code. \n",
    "* Save data and figures as you work (np.savez and plt.savefig are useful for this).\n",
    "* Develop your code at low numerical accuracy. Once you are sure the code works as it should, only then start to increase the number of MC steps. \n",
    "* Depending on your code, you may have calculations with a lot of runtime. Even though you will not be evaluated on how fast your code is, you will get more interesting and accurate results if you increase the number of MC steps. To speed up your code, always use *numpy* when possible. *numpy* is fast, and works seamlessly with *numba*. In addition, the task of running different Monte Carlo simulations (e.g. at different temperatures) is a task that it so-called *embarrassingly parallel*. This means that it is relatively easy to run simulations at different CPU cores. However, don't let the term fool you. In practice, it may be quite hard to get the parallelization to work properly. I stress that this is **absolutely not** a requirement for the project, but for those of you that are interested, I recommend the python library *dask* as it is a relatively user friendly parallelization library.\n",
    "* Your teaching assistants are not experts in neither *numba* nor *dask*, so you cannot expect them to fix all problems relating to these libraries. \n",
    "* *np.random.random()* is a a simple command that generates a random decimal number between 0 and 1. \n",
    "* Lastly, I want to highlight two *numpy* functions you will useful. Firstly, *np.argwhere* will be useful throughout the project.  ```np.argwhere(grid)``` returns an array of all the positions of the non-zero values of the *grid* (i.e. all the monomer coordinates). As we showed earlier in this notebook, you can also specify which monomer(s) you look for by using ```np.argwhere(grid==monomer_value)```.  The second function you will find useful is *np.where()*. This will be of particular use in moving polymers in the second exercise. Look up the documentation for this function to understand how it works."
   ]
  }
 ],
 "metadata": {
  "kernelspec": {
   "display_name": "Python 3",
   "language": "python",
   "name": "python3"
  },
  "language_info": {
   "codemirror_mode": {
    "name": "ipython",
    "version": 3
   },
   "file_extension": ".py",
   "mimetype": "text/x-python",
   "name": "python",
   "nbconvert_exporter": "python",
   "pygments_lexer": "ipython3",
   "version": "3.7.4"
  }
 },
 "nbformat": 4,
 "nbformat_minor": 5
}
