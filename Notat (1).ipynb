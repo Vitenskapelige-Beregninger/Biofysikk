{
 "cells": [
  {
   "cell_type": "markdown",
   "metadata": {},
   "source": [
    "Denne rapporten blir todelt i to forskjellige oppgaver som hører sammen. Den første delen går på hvordan et system med monomerer oppfører seg i en løsning, mens del to fokuserer på polymerer. Polymerer er monomerer med samme ladning som er koplet sammen med kovalente bindinger. Disse polymererene grupperes sammen, så i utgangspunktet så ser oppgaven på hvordan den kovalente bindingen mellom monomerer påvirker systemet og formasjoner/grupperinger. Oppgaven 1 tar for seg i stor grad hvordan systemet med monomerer påvirkes når de \"clustrer/grupperes\" under forskjellige temperaturer. Dette betyr at det er en samling av monomerer med forskjellige ladninger (-1 og 1) som bindes sammen. Her observeres det kvalitative forskjeller av gruppedannelser av monomerer ved forskjellige temperaturer. Dette innebærer hvordan temperaturen påvirker gjennomsnittsstørrelsene til disse clustrene som følge av hvor  temperaturen i systemet er. I tillegg, så blir energien i systemet med monomer som ikke har blitt grupperet beregnet i oppgaven. Her sees det også på når energien i systemet når et likevektspunkt ved simulasjoner på 200K og 500K, og hvor mange steg det krever. Oppgave 2 tar for seg ...\n",
    "\n",
    "Oppgave 1 tar for seg flere funksjoner, f.eks blir det laget en grid gjennom en array med 0'ere, 1'ere og -1'ere. Her representerer 1 og -1 plasseringene til monomerene i rutenettet. Dette betyr at de enten er negative eller positive ladet. Videre, blir dette arrayet plottet, slik det blir et rutenett med størrelse, N*N, og 2*M antall monomerer. Etter dette, så blir det laget en nabofunksjon som returnerer naboposisjonene (vertikalt og horizontalt) i en array til et gitt punkt i arrayene/rutenettet. Også, så defineres en funksjon som regner ut det totale energien i monomer-systemet. Denne plottes så ved forskjellige temperaturer, og så blir det observert når energien når likevekt ved forskjellige temperaturer. "
   ]
  },
  {
   "cell_type": "code",
   "execution_count": 95,
   "metadata": {
    "scrolled": true
   },
   "outputs": [
    {
     "name": "stdout",
     "output_type": "stream",
     "text": [
      "[[-1.  0.  0.  0.  0.  0.  0.  0.  0.  0.]\n",
      " [ 0.  0.  0.  0.  0.  0.  0.  0.  0. -1.]\n",
      " [ 0.  0.  0.  0.  0.  0.  0.  1.  0.  0.]\n",
      " [ 0.  0.  0.  0.  0.  1.  0.  0.  0.  0.]\n",
      " [ 0.  0.  0.  0.  1.  0.  0.  0.  0.  0.]\n",
      " [ 0.  0.  0.  0.  0.  0.  0.  0.  0.  0.]\n",
      " [ 0.  0.  1.  0.  0.  0.  0.  0. -1.  0.]\n",
      " [ 0.  0.  0.  0. -1.  0.  0.  0.  0.  0.]\n",
      " [ 0.  0.  0.  0.  0.  0.  0.  1.  0.  0.]\n",
      " [ 0.  0.  0.  0. -1.  0.  0.  0.  0.  0.]]\n",
      "0.0\n"
     ]
    },
    {
     "data": {
      "text/plain": [
       "<matplotlib.collections.QuadMesh at 0x7fa4cc62f040>"
      ]
     },
     "execution_count": 95,
     "metadata": {},
     "output_type": "execute_result"
    },
    {
     "data": {
      "image/png": "[encoded data removed]",
      "text/plain": [
       "<Figure size 432x288 with 1 Axes>"
      ]
     },
     "metadata": {
      "needs_background": "light"
     },
     "output_type": "display_data"
    }
   ],
   "source": [
    "import numpy as np\n",
    "import matplotlib.pyplot as plt\n",
    "\n",
    "def monomer_grid(N,M):\n",
    "    grid = np.zeros((N,N))\n",
    "    for i in range(M):\n",
    "        randomPosition = (np.random.randint(N),np.random.randint(N))\n",
    "        while grid[randomPosition] != 0:\n",
    "            randomPosition = (np.random.randint(N),np.random.randint(N))\n",
    "        grid[randomPosition] = 1\n",
    "    for i in range(M):\n",
    "        randomPosition = (np.random.randint(N),np.random.randint(N))\n",
    "        while grid[randomPosition] != 0:\n",
    "            randomPosition = (np.random.randint(N),np.random.randint(N))\n",
    "        grid[randomPosition] = -1\n",
    "    return grid\n",
    "    \n",
    "\n",
    "forsok1 = monomer_grid(10,5)\n",
    "print(forsok1)\n",
    "print(forsok1[3][4])\n",
    "plt.pcolormesh(forsok1[::-1],cmap='PiYG')"
   ]
  },
  {
   "cell_type": "code",
   "execution_count": 24,
   "metadata": {},
   "outputs": [
    {
     "data": {
      "text/plain": [
       "[[2, 4], [2, 6], [1, 5], [3, 5]]"
      ]
     },
     "execution_count": 24,
     "metadata": {},
     "output_type": "execute_result"
    }
   ],
   "source": [
    "def neighbour_coord(N, i, j):\n",
    "    naboarray = [[i, (j-1)%N],\n",
    "                [i, (j+1)%N],\n",
    "                [(i-1)%N, j],\n",
    "                [(i+1)%N, j]]\n",
    "            \n",
    "    return naboarray\n",
    "\n",
    "neighbour_coord(10, 2, 5)"
   ]
  },
  {
   "cell_type": "code",
   "execution_count": 15,
   "metadata": {},
   "outputs": [],
   "source": [
    "def check_monomer(grid, x, y):\n",
    "    monomer = False\n",
    "    if grid[x, y] == 1: ## Sjekker om gridet inneholder en monomer\n",
    "        monomer = True\n",
    "    elif grid[x,y] == -1: ## Sjekker om griddet inneholder en monomer\n",
    "        monomer = True\n",
    "    return monomer #Returner True hvis det inneholder en monomer\n",
    "\n",
    "def tot_energy(grid): #grid er gridet som blir generert gjennom monomer_grid\n",
    "    alfa = ((1.6E-19)**2)/(4*(np.pi)*8*78*(854E-12)*((23E-6)**2))\n",
    "    energy = 0\n",
    "    l_g = len(grid[0])\n",
    "    for i in range(l_g):\n",
    "        for j in range(l_g):\n",
    "            monomer = False\n",
    "            \n",
    "            if grid[i, j] == 1: #Sjekker om gridet inneholder en monomer\n",
    "                monomer = True\n",
    "\n",
    "            elif grid[i,j] == -1: #Setter monomer lik True hvis griddet inneholder en monomer\n",
    "                monomer = True\n",
    "            \n",
    "            if monomer == True:\n",
    "                nabo_grid = neighbour_coord(l_g, i, j) #Lager et array som inneholder naborutene til originalen\n",
    "                for square in nabo_grid:\n",
    "                    posneg = grid[square[0], square[1]]*grid[i, j]\n",
    "                    if posneg < 0:\n",
    "                        posneg = -1\n",
    "                    elif posneg > 0:\n",
    "                        posneg = 1\n",
    "                    energy += posneg #summerer opp monomer energy\n",
    "        \n",
    "      \n",
    "    tot_energy = (energy)/(alfa*2)\n",
    "    return tot_energy"
   ]
  },
  {
   "cell_type": "code",
   "execution_count": 50,
   "metadata": {},
   "outputs": [
    {
     "data": {
      "text/plain": [
       "1.3837831280731054e+23"
      ]
     },
     "execution_count": 50,
     "metadata": {},
     "output_type": "execute_result"
    }
   ],
   "source": [
    "tot_energy(forsok1)"
   ]
  }
 ],
 "metadata": {
  "kernelspec": {
   "display_name": "Python 3",
   "language": "python",
   "name": "python3"
  },
  "language_info": {
   "codemirror_mode": {
    "name": "ipython",
    "version": 3
   },
   "file_extension": ".py",
   "mimetype": "text/x-python",
   "name": "python",
   "nbconvert_exporter": "python",
   "pygments_lexer": "ipython3",
   "version": "3.8.3"
  }
 },
 "nbformat": 4,
 "nbformat_minor": 4
}
