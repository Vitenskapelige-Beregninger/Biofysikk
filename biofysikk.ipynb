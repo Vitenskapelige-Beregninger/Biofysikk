{
 "cells": [
  {
   "cell_type": "code",
   "execution_count": 117,
   "metadata": {},
   "outputs": [],
   "source": [
    "#Oppgave 1 a) og b)\n",
    "import numpy as np\n",
    "import matplotlib.pyplot as plt\n",
    "\n",
    "def generate_grid_of_monomers(N,M):\n",
    "    grid = np.zeros((N,N)) #lager et grid av riktig størrelse fylt av nuller\n",
    "    for i in range(M):\n",
    "        randomPosition = (np.random.randint(N),np.random.randint(N)) #velger tilfeldig koordinat\n",
    "        while grid[randomPosition] != 0:  #hvis koordinatet ikke er opptatt setter vi en positiv monomer der, til vi har M stk\n",
    "            randomPosition = (np.random.randint(N),np.random.randint(N))\n",
    "        grid[randomPosition] = i+1\n",
    "    for i in range(M):\n",
    "        randomPosition = (np.random.randint(N),np.random.randint(N)) #så det samme for negative monomerer\n",
    "        while grid[randomPosition] != 0:\n",
    "            randomPosition = (np.random.randint(N),np.random.randint(N))\n",
    "        grid[randomPosition] = -(i+1)\n",
    "    return grid\n",
    "    \n",
    "\n",
    "def visualize_grid(grid, cmap='PiYG', low_val = -1, high_val = 1): #viser by default kun farger for verdier mellom -1 og 1\n",
    "    plt.pcolormesh(grid,cmap=cmap, vmin = low_val, vmax = high_val)\n",
    "    plt.gca().invert_yaxis()"
   ]
  },
  {
   "cell_type": "code",
   "execution_count": 118,
   "metadata": {},
   "outputs": [],
   "source": [
    "def get_neighbors_coordinates(N, i, j):\n",
    "    neighborarray = [[i, (j-1)%N],\n",
    "                     [i, (j+1)%N],\n",
    "                     [(i-1)%N, j],\n",
    "                     [(i+1)%N, j]]\n",
    "    return neighborarray\n",
    "\n",
    "def delete_empty_neighbor_coordinates(grid, neighborarray):\n",
    "    for neighbor in neighborarray:\n",
    "        if grid[neighbor[0],neighbor[1]]==0:\n",
    "            neighborarray.remove(neighbor)\n",
    "    return neighborarray"
   ]
  },
  {
   "cell_type": "code",
   "execution_count": 119,
   "metadata": {},
   "outputs": [],
   "source": [
    "# We use the convention for directions: 0 = left, 1= right, 2=up, 3=down\n",
    "# If we try to move monomers on top of a different monomer, nothing happens (This is an illegal move)\n",
    "def move_monomer(grid, monomer_value, direction, N):\n",
    "    # First we need to find the coordinates of the monomer we want to move\n",
    "    # np.argwhere returns an array of all the coordinates that fulfill grid==monomer_value\n",
    "    # Because there is only one grid point fulfilling grid==monomer_value, we extract the first element\n",
    "    monomer_coordinates = np.argwhere(grid==monomer_value)[0] \n",
    "\n",
    "    # Now we find the coordiates of the neighboring grid point in the desired direction (using function from 1c)\n",
    "    array_of_all_neighbor_coordinates = get_neighbors_coordinates(N=N, i=monomer_coordinates[0],\n",
    "                                                                 j=monomer_coordinates[1])\n",
    "    desired_neigbor_coordinate = array_of_all_neighbor_coordinates[direction]\n",
    "    \n",
    "    # Now we check if there is solvent (i.e. a zero) at the desired coordinate\n",
    "    # meaning that we can move our monomer\n",
    "    if grid[desired_neigbor_coordinate[0], desired_neigbor_coordinate[1]]==0:\n",
    "        grid[desired_neigbor_coordinate[0], desired_neigbor_coordinate[1]] = monomer_value # moving the monomer\n",
    "        grid[monomer_coordinates[0], monomer_coordinates[1]] = 0 #replacing old position of the monomer with solvent\n",
    "    return grid"
   ]
  },
  {
   "cell_type": "code",
   "execution_count": 120,
   "metadata": {},
   "outputs": [],
   "source": [
    "\n",
    "\n",
    "def monte_carlo_sim(N_s, N, M, T, grid):\n",
    "    beta = 1/(T*1.380649e-23) #1/(kB*T)\n",
    "    epsilon = np.zeros(N_s)\n",
    "    for i in range(N_s):\n",
    "        E = energy_calculation(grid, N)\n",
    "        #Generates a random integer between 0 and 3 (low is inclusive, high is not)\n",
    "        random_direction = np.random.randint(low=0, high=4) \n",
    "        # For generating a random monomer value, we generate the magntitude and sign seperately.\n",
    "        magnitude = np.random.randint(1, M + 1)\n",
    "        sign = 2 * np.random.randint(0, 2) - 1 # Easy way to generate random sign\n",
    "        new_grid = move_monomer(grid, sign*magnitude, random_direction, N) # This function already avoids illegal moves\n",
    "        E_new = energy_calculation(new_grid)\n",
    "        if E_new < E:\n",
    "            grid = new_grid\n",
    "            E = E_new\n",
    "        elif np.random.random(0,1)<np.exp(-beta*(E_new-E)):\n",
    "            grid = new_grid\n",
    "            E = E_new\n",
    "        else:\n",
    "            pass\n",
    "        epsilon[i] = E\n",
    "    return epsilon, grid"
   ]
  },
  {
   "cell_type": "code",
   "execution_count": 121,
   "metadata": {},
   "outputs": [
    {
     "ename": "SyntaxError",
     "evalue": "invalid syntax (<ipython-input-121-047f6e119e26>, line 7)",
     "output_type": "error",
     "traceback": [
      "\u001b[1;36m  File \u001b[1;32m\"<ipython-input-121-047f6e119e26>\"\u001b[1;36m, line \u001b[1;32m7\u001b[0m\n\u001b[1;33m    low_T_energy, low_T_grid = monte_carlo_sim(N_s, N, M, T_1 grid)\u001b[0m\n\u001b[1;37m                                                                 ^\u001b[0m\n\u001b[1;31mSyntaxError\u001b[0m\u001b[1;31m:\u001b[0m invalid syntax\n"
     ]
    }
   ],
   "source": [
    "N,M = 25, 15\n",
    "N_s=50000\n",
    "grid=generate_grid_of_monomers(N,M)\n",
    "T_1=200\n",
    "T_2=500\n",
    "timesteps = np.arange(N_s)\n",
    "low_T_energy, low_T_grid = monte_carlo_sim(N_s, N, M, T_1 grid)\n",
    "np.savez('lowTsimulation.npz', low_T_grid=low_T_grid)\n",
    "\n",
    "high_T_energy, high_T_grid = monte_carlo_sim(N_s, N, M, T_2 grid)\n",
    "\n",
    "plt.title('Energy as a function of time for T=200K and T=300K') \n",
    "plt.plot(timesteps, low_T_energy, 'c')\n",
    "plt.plot(timesteps, high_T_energy, 'm')\n",
    "plt.legend(['time','system energy'])\n",
    "plt.grid(True)\n",
    "\n",
    "plt.show()\n",
    "'''t_equil is larger for higher teperatures as the likelihood of monomers moving away from local minima is larger,\n",
    "i.e. monomers move more frequently and also settle in a more efficient equilibrium, but this takes more\n",
    "moves to accomplish, as the probability of the low temperature grid being in a local equilibrium is larger than for\n",
    "the high temperature grid.'''"
   ]
  },
  {
   "cell_type": "code",
   "execution_count": 141,
   "metadata": {},
   "outputs": [
    {
     "data": {
      "image/png": "[encoded data removed]",
      "text/plain": [
       "<Figure size 432x288 with 1 Axes>"
      ]
     },
     "metadata": {
      "needs_background": "light"
     },
     "output_type": "display_data"
    },
    {
     "data": {
      "image/png": "[encoded data removed]",
      "text/plain": [
       "<Figure size 432x288 with 1 Axes>"
      ]
     },
     "metadata": {
      "needs_background": "light"
     },
     "output_type": "display_data"
    },
    {
     "name": "stdout",
     "output_type": "stream",
     "text": [
      "[[ 0.  0.  0.  0.  0.  0.  0.  1.  0.  2.  2.  2.  2.  0.  0.]\n",
      " [ 0.  0.  0.  0.  0.  0.  3.  0.  0.  2.  2.  0.  0.  0.  0.]\n",
      " [ 0.  0.  0.  4.  0.  0.  0.  0.  0.  0.  0.  0.  0.  0.  0.]\n",
      " [ 0.  0.  0.  4.  4.  0.  0.  0.  0.  0.  0.  0.  0.  0.  0.]\n",
      " [ 0.  0.  0.  0.  0.  0.  5.  0.  6.  0.  0.  0.  0.  0.  7.]\n",
      " [ 8.  8.  0.  0.  0.  0.  5.  0.  0.  0.  0.  9.  9.  0.  0.]\n",
      " [ 0.  0.  0.  0.  0.  0.  0.  0.  0.  0.  0.  0.  9.  0.  0.]\n",
      " [ 0. 10.  0. 11.  0.  0.  0. 12. 12.  0.  0.  0.  0.  0.  0.]\n",
      " [ 0.  0.  0. 11.  0.  0.  0.  0.  0.  0.  0.  0.  0.  0.  0.]\n",
      " [ 0. 13.  0.  0.  0.  0. 14.  0. 15.  0.  0.  0.  0.  0.  0.]\n",
      " [ 0.  0.  0.  0.  0.  0.  0.  0.  0.  0.  0.  0.  0.  0.  0.]\n",
      " [ 0.  0.  0.  0.  0.  0.  0. 16.  0.  0. 17.  0.  0.  0.  0.]\n",
      " [18.  0. 19.  0.  0.  0.  0.  0.  0.  0.  0.  0.  0. 18. 18.]\n",
      " [ 0.  0. 19.  0.  0.  0.  0.  0.  0.  0.  0. 20.  0.  0.  0.]\n",
      " [ 0. 21.  0.  0.  0.  0.  0.  0.  0.  0.  2.  0.  0.  0.  0.]]\n"
     ]
    }
   ],
   "source": [
    "#Oppgave 1 g)\n",
    "def generate_cluster_grid(grid, M):\n",
    "    largest_possible_cluster_value = 2*M +1\n",
    "    cluster_number = largest_possible_cluster_value\n",
    "    #nummererer cluster og gir hvert cluster et nummer som garantert er høyere enn hvis alle monomerer er adskilt\n",
    "    for monomer in np.argwhere(grid!=0): #finner koordinater til punkter i grid som ikke er lik 0\n",
    "        i,j = monomer[0],monomer[1]\n",
    "        grid[i][j] = cluster_number #lager nytt cluster\n",
    "        cluster_number += 1\n",
    "        nearest_neighbors = delete_empty_neighbor_coordinates(grid, get_neighbors_coordinates(N, i, j))\n",
    "        for neighbor in nearest_neighbors:\n",
    "            if(abs(grid[neighbor[0]][neighbor[1]])<abs(grid[i][j])):\n",
    "                if (grid[neighbor[0]][neighbor[1]]>=largest_possible_cluster_value):\n",
    "                #hvis naboen er del av et cluster allerede får monomeren naboens verdi\n",
    "                    for cluster_item in np.argwhere(grid == grid[i][j]):\n",
    "                    #for alle monomerer i andre cluster som monomeren er en del av\n",
    "                        grid[cluster_item[0],cluster_item[1]] = grid[neighbor[0]][neighbor[1]]\n",
    "                    cluster_number -= 1\n",
    "            else:\n",
    "                for cluster_item in np.argwhere(grid == grid[neighbor[0]][neighbor[1]]):\n",
    "                    #for alle monomerer i andre cluster som naboen er en del av\n",
    "                        grid[cluster_item[0],cluster_item[1]] = grid[i][j]\n",
    "                    \n",
    "                '''merger cluster ved å gi alle monomerer i clusteret med høyest verdi verdien til det clusteret\n",
    "                som er \"eldst\", dvs. lavest cluster verdi over 2, hvis ikke naboen er del av et eksisterende cluster,\n",
    "                legger vi til naboen i monomerens cluster'''\n",
    "    for monomer in np.argwhere(grid!=0): #finner koordinater til punkter i grid som ikke er lik 0\n",
    "        i,j = monomer[0],monomer[1]\n",
    "        grid[i][j] -= largest_possible_cluster_value #gir clusterne lavest mulig verdi\n",
    "    return grid\n",
    "\n",
    "N, M = 15, 20\n",
    "forsok1 = generate_grid_of_monomers(N, M)\n",
    "visualize_grid(forsok1)\n",
    "plt.show()\n",
    "cluster_grid = generate_cluster_grid(forsok1, M)\n",
    "visualize_grid(cluster_grid,cmap = 'twilight', low_val = 0, high_val = M)\n",
    "plt.show()\n",
    "print(cluster_grid)\n",
    "\n",
    "#lowTgrid = np.load('lowTsimulation.npz')['lowTgrid']\n",
    "\n",
    "#visualize_grid(lowTgrid)\n",
    "#visualize_grid(generate_cluster_grid(lowTgrid, N = lowTgrid.shape[0]))\n",
    "#plt.show()"
   ]
  },
  {
   "cell_type": "code",
   "execution_count": 138,
   "metadata": {},
   "outputs": [
    {
     "data": {
      "text/plain": [
       "1.6"
      ]
     },
     "execution_count": 138,
     "metadata": {},
     "output_type": "execute_result"
    }
   ],
   "source": [
    "def mean_cluster_size(cluster_grid, M):\n",
    "    amount_of_clusters = 1\n",
    "    for row in cluster_grid:\n",
    "        biggest_in_row = max(row)\n",
    "        if biggest_in_row > amount_of_clusters:\n",
    "            amount_of_clusters = biggest_in_row\n",
    "    return 2*M/amount_of_clusters\n",
    "mean_cluster_size(cluster_grid, M)"
   ]
  },
  {
   "cell_type": "code",
   "execution_count": null,
   "metadata": {},
   "outputs": [],
   "source": [
    "#Oppgave 2 a)\n",
    "def generate_grid_of_polymers(N,M,L):\n",
    "    "
   ]
  }
 ],
 "metadata": {
  "kernelspec": {
   "display_name": "Python 3",
   "language": "python",
   "name": "python3"
  },
  "language_info": {
   "codemirror_mode": {
    "name": "ipython",
    "version": 3
   },
   "file_extension": ".py",
   "mimetype": "text/x-python",
   "name": "python",
   "nbconvert_exporter": "python",
   "pygments_lexer": "ipython3",
   "version": "3.7.4"
  }
 },
 "nbformat": 4,
 "nbformat_minor": 2
}
