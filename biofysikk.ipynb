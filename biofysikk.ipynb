{
 "cells": [
  {
   "cell_type": "code",
   "execution_count": 65,
   "metadata": {},
   "outputs": [
    {
     "data": {
      "image/png": "[encoded data removed]",
      "text/plain": [
       "<Figure size 432x288 with 1 Axes>"
      ]
     },
     "metadata": {
      "needs_background": "light"
     },
     "output_type": "display_data"
    }
   ],
   "source": [
    "#Oppgave 1 a) og b)\n",
    "import numpy as np\n",
    "import matplotlib.pyplot as plt\n",
    "\n",
    "def generate_grid_of_monomers(N,M):\n",
    "    grid = np.zeros((N,N)) #lager et grid av riktig størrelse fylt av nuller\n",
    "    for i in range(M):\n",
    "        randomPosition = (np.random.randint(N),np.random.randint(N)) #velger tilfeldig koordinat\n",
    "        while grid[randomPosition] != 0:  #hvis koordinatet ikke er opptatt setter vi en positiv monomer der, til vi har M stk\n",
    "            randomPosition = (np.random.randint(N),np.random.randint(N))\n",
    "        grid[randomPosition] = i+1\n",
    "    for i in range(M):\n",
    "        randomPosition = (np.random.randint(N),np.random.randint(N)) #så det samme for negative monomerer\n",
    "        while grid[randomPosition] != 0:\n",
    "            randomPosition = (np.random.randint(N),np.random.randint(N))\n",
    "        grid[randomPosition] = -(i+1)\n",
    "    return grid\n",
    "    \n",
    "\n",
    "def visualize_grid(grid, cmap='PiYG', low_val = -1, high_val = 1): #viser by default kun farger for verdier mellom -1 og 1\n",
    "    plt.pcolormesh(grid,cmap=cmap, vmin = low_val, vmax = high_val)\n",
    "    plt.gca().invert_yaxis() #plotter i matrisekoordinater\n",
    "\n",
    "N, M = 15, 20\n",
    "Example_system = generate_grid_of_monomers(N,M)\n",
    "visualize_grid(Example_system)"
   ]
  },
  {
   "cell_type": "code",
   "execution_count": 36,
   "metadata": {},
   "outputs": [
    {
     "name": "stdout",
     "output_type": "stream",
     "text": [
      "[[8, 10], [8, 12], [7, 11]]\n"
     ]
    }
   ],
   "source": [
    "def get_neighbors_coordinates(N, i, j):\n",
    "    neighborarray = [[i, (j-1)%N],\n",
    "                     [i, (j+1)%N],\n",
    "                     [(i-1)%N, j],\n",
    "                     [(i+1)%N, j]]\n",
    "    return neighborarray\n",
    "\n",
    "def get_neighboring_monomers(grid, N, i, j):\n",
    "    neighborarray = get_neighbors_coordinates(N, i, j)\n",
    "    for neighbor in neighborarray:\n",
    "        if grid[neighbor[0],neighbor[1]]==0:\n",
    "            neighborarray.remove(neighbor)\n",
    "    return neighborarray\n",
    "print(get_neighboring_monomers(Example_system, N, 8, 11))"
   ]
  },
  {
   "cell_type": "code",
   "execution_count": 48,
   "metadata": {},
   "outputs": [
    {
     "name": "stdout",
     "output_type": "stream",
     "text": [
      "3.3548664673968075e-20\n"
     ]
    }
   ],
   "source": [
    "alpha_1 = ((1.6022E-19)**2)/(4*np.pi*(8.8542E-12)*78*(23E-6)**2)\n",
    "\n",
    "def energy_calculation(grid, N, alpha = alpha_1): #grid er gridet som blir generert gjennom monomer_grid\n",
    "    energy = 0\n",
    "    monomers = np.argwhere(grid != 0)\n",
    "    for monomer in monomers:\n",
    "        i,j = monomer[0], monomer[1]\n",
    "        for neighbor in get_neighboring_monomers(grid, N, i, j):\n",
    "            sign = grid[neighbor[0], neighbor[1]]*grid[i, j]\n",
    "            if sign < 0:\n",
    "                sign = -1\n",
    "            elif sign > 0:\n",
    "                sign = 1\n",
    "            energy += sign #summerer opp monomer energy\n",
    "            #returnerer E/alpha dvs antall interaksjoner mellom monomerer (negativ for forskjellig fortegn)\n",
    "    return energy*alpha/2 #deler på 2 fordi vi itererer over alle monomerer og det er 2 monomerer i enhver interaksjon\n",
    "\n",
    "print(energy_calculation(Example_system, N))"
   ]
  },
  {
   "cell_type": "code",
   "execution_count": 49,
   "metadata": {},
   "outputs": [],
   "source": [
    "# We use the convention for directions: 0 = left, 1= right, 2=up, 3=down\n",
    "# If we try to move monomers on top of a different monomer, nothing happens (This is an illegal move)\n",
    "def move_monomer(grid, monomer_value, direction, N):\n",
    "    # First we need to find the coordinates of the monomer we want to move\n",
    "    # np.argwhere returns an array of all the coordinates that fulfill grid==monomer_value\n",
    "    # Because there is only one grid point fulfilling grid==monomer_value, we extract the first element\n",
    "    monomer_coordinates = np.argwhere(grid==monomer_value)[0] \n",
    "\n",
    "    # Now we find the coordiates of the neighboring grid point in the desired direction (using function from 1c)\n",
    "    array_of_all_neighbor_coordinates = get_neighbors_coordinates(N=N, i=monomer_coordinates[0],\n",
    "                                                                 j=monomer_coordinates[1])\n",
    "    desired_neigbor_coordinate = array_of_all_neighbor_coordinates[direction]\n",
    "    \n",
    "    # Now we check if there is solvent (i.e. a zero) at the desired coordinate\n",
    "    # meaning that we can move our monomer\n",
    "    if grid[desired_neigbor_coordinate[0], desired_neigbor_coordinate[1]]==0:\n",
    "        grid[desired_neigbor_coordinate[0], desired_neigbor_coordinate[1]] = monomer_value # moving the monomer\n",
    "        grid[monomer_coordinates[0], monomer_coordinates[1]] = 0 #replacing old position of the monomer with solvent\n",
    "    return grid"
   ]
  },
  {
   "cell_type": "code",
   "execution_count": 50,
   "metadata": {},
   "outputs": [],
   "source": [
    "\n",
    "\n",
    "def monte_carlo_sim(N_s, N, M, T, grid,alpha = alpha_1):\n",
    "    beta = 1/(T*1.380649E-23) #1/(kB*T)\n",
    "    epsilon = np.zeros(N_s)\n",
    "    for i in range(N_s):\n",
    "        E = energy_calculation(grid, N)\n",
    "        #Generates a random integer between 0 and 3 (low is inclusive, high is not)\n",
    "        random_direction = np.random.randint(low=0, high=4) \n",
    "        # For generating a random monomer value, we generate the magntitude and sign seperately.\n",
    "        magnitude = np.random.randint(1, M + 1)\n",
    "        sign = 2 * np.random.randint(0, 2) - 1 # Easy way to generate random sign\n",
    "        new_grid=np.copy(grid)\n",
    "        new_grid = move_monomer(new_grid, sign*magnitude, random_direction, N) # This function already avoids illegal moves\n",
    "        E_new = energy_calculation(new_grid, N)\n",
    "        if E_new < E:\n",
    "            grid = new_grid\n",
    "            E = E_new\n",
    "        elif np.random.random()<np.exp(-beta*(E_new-E)):\n",
    "            grid = new_grid\n",
    "            E = E_new\n",
    "        else:\n",
    "            pass\n",
    "        epsilon[i] = E/alpha\n",
    "    return epsilon, grid"
   ]
  },
  {
   "cell_type": "code",
   "execution_count": 51,
   "metadata": {},
   "outputs": [
    {
     "data": {
      "image/png": "[encoded data removed]",
      "text/plain": [
       "<Figure size 432x288 with 1 Axes>"
      ]
     },
     "metadata": {
      "needs_background": "light"
     },
     "output_type": "display_data"
    },
    {
     "data": {
      "text/plain": [
       "'t_equil is smaller for higher teperatures as the likelihood of monomers moving away from local minima is larger,\\ni.e. monomers move more frequently and also settle in a equilibrium faster, but this equilibrium has a higher potential energy\\nthan the low temperature variant because the temperature (by definition) increases the energy of the system. In the high T \\nsimulation the monomers move more easily away from \"bonds\" with other monomers, this is the reason for the higher potential \\nenergy. For the lower temperature simulation this takes more moves to accomplish, as the probability of the low \\ntemperature grid being in a local equilibrium is larger than for the high temperature grid.'"
      ]
     },
     "execution_count": 51,
     "metadata": {},
     "output_type": "execute_result"
    }
   ],
   "source": [
    "N,M = 15, 25\n",
    "N_s=50000\n",
    "grid=generate_grid_of_monomers(N,M)\n",
    "T_1=200\n",
    "T_2=500\n",
    "timesteps = np.arange(N_s)\n",
    "low_T_energy, low_T_grid = monte_carlo_sim(N_s, N, M, T_1, grid)\n",
    "np.savez('lowTsimulation.npz', low_T_grid=low_T_grid)\n",
    "\n",
    "high_T_energy, high_T_grid = monte_carlo_sim(N_s, N, M, T_2, grid)\n",
    "\n",
    "plt.figure(figsize=(10,8))\n",
    "plt.title('Energy as a function of time for T=200K and T=500K')\n",
    "plt.plot(timesteps, low_T_energy, 'c')\n",
    "plt.plot(timesteps, high_T_energy, 'm')\n",
    "plt.legend(['T=200K','T=500K'])\n",
    "plt.grid(True)\n",
    "plt.xlabel('Timesteps N_s')\n",
    "plt.ylabel('Energy E/α')\n",
    "plt.show()\n",
    "\n",
    "'''t_equil is smaller for higher teperatures as the likelihood of monomers moving away from local minima is larger,\n",
    "i.e. monomers move more frequently and also settle in a equilibrium faster, but this equilibrium has a higher potential energy\n",
    "than the low temperature variant because the temperature (by definition) increases the energy of the system. In the high T \n",
    "simulation the monomers move more easily away from \"bonds\" with other monomers, this is the reason for the higher potential \n",
    "energy. For the lower temperature simulation this takes more moves to accomplish, as the probability of the low \n",
    "temperature grid being in a local equilibrium is larger than for the high temperature grid.'''\n",
    "\n",
    "'''We find that timesteps needed to reach equilibrium is at approximately 2500 steps for T=500K and at approx 20000 steps\n",
    "for T=200K.'''"
   ]
  },
  {
   "cell_type": "code",
   "execution_count": 119,
   "metadata": {},
   "outputs": [
    {
     "data": {
      "image/png": "[encoded data removed]",
      "text/plain": [
       "<Figure size 432x288 with 1 Axes>"
      ]
     },
     "metadata": {
      "needs_background": "light"
     },
     "output_type": "display_data"
    },
    {
     "data": {
      "image/png": "[encoded data removed]",
      "text/plain": [
       "<Figure size 432x288 with 1 Axes>"
      ]
     },
     "metadata": {
      "needs_background": "light"
     },
     "output_type": "display_data"
    }
   ],
   "source": [
    "#Oppgave 1 g)\n",
    "def generate_cluster_grid(grid, M):\n",
    "    largest_possible_cluster_value = 2*M\n",
    "    cluster_number = largest_possible_cluster_value + 1\n",
    "    #nummererer cluster og gir hvert cluster et nummer som garantert er høyere enn hvis alle monomerer er adskilt\n",
    "    for monomer in np.argwhere(grid!=0): #finner koordinater til punkter i grid som ikke er lik 0\n",
    "        i,j = monomer[0],monomer[1]\n",
    "        grid[i][j] = cluster_number #lager nytt cluster\n",
    "        cluster_number += 1\n",
    "        nearest_neighbors = get_neighboring_monomers(grid, N, i, j)\n",
    "        for neighbor in nearest_neighbors:\n",
    "            if(abs(grid[neighbor[0]][neighbor[1]])<abs(grid[i][j])):\n",
    "                if (grid[neighbor[0]][neighbor[1]]>=largest_possible_cluster_value):\n",
    "                #hvis naboen er del av et cluster allerede får monomeren naboens verdi\n",
    "                    for cluster_item in np.argwhere(grid == grid[i][j]):\n",
    "                    #for alle monomerer i andre cluster som monomeren er en del av\n",
    "                        grid[cluster_item[0],cluster_item[1]] = grid[neighbor[0]][neighbor[1]]\n",
    "                    cluster_number -= 1\n",
    "            else:\n",
    "                for cluster_item in np.argwhere(grid == grid[neighbor[0]][neighbor[1]]):\n",
    "                    #for alle monomerer i andre cluster som naboen er en del av\n",
    "                        grid[cluster_item[0],cluster_item[1]] = grid[i][j]\n",
    "                    \n",
    "                '''merger cluster ved å gi alle monomerer i clusteret med høyest verdi verdien til det clusteret\n",
    "                som er \"eldst\", dvs. lavest cluster verdi over 2, hvis ikke naboen er del av et eksisterende cluster,\n",
    "                legger vi til naboen i monomerens cluster'''\n",
    "    for monomer in np.argwhere(grid!=0): #finner koordinater til punkter i grid som ikke er lik 0\n",
    "        i,j = monomer[0],monomer[1]\n",
    "        grid[i][j] -= largest_possible_cluster_value #gir clusterne lavest mulig verdi\n",
    "    return grid\n",
    "\n",
    "\n",
    "lowTgrid = np.load('lowTsimulation.npz')['low_T_grid']\n",
    "visualize_grid(lowTgrid)\n",
    "plt.show()\n",
    "visualize_grid(generate_cluster_grid(lowTgrid, M), cmap = 'Paired', high_val = None)"
   ]
  },
  {
   "cell_type": "code",
   "execution_count": 120,
   "metadata": {},
   "outputs": [],
   "source": [
    "def mean_cluster_size(cluster_grid, M):\n",
    "    amount_of_clusters = 1\n",
    "    for row in cluster_grid:\n",
    "        biggest_in_row = max(row)\n",
    "        if biggest_in_row > amount_of_clusters:\n",
    "            amount_of_clusters = biggest_in_row\n",
    "    return 2*M/amount_of_clusters"
   ]
  },
  {
   "cell_type": "code",
   "execution_count": null,
   "metadata": {},
   "outputs": [],
   "source": []
  },
  {
   "cell_type": "code",
   "execution_count": null,
   "metadata": {},
   "outputs": [],
   "source": [
    "#Oppgave 2 a)\n",
    "def generate_grid_of_polymers(N,M,L):\n",
    "    "
   ]
  }
 ],
 "metadata": {
  "kernelspec": {
   "display_name": "Python 3",
   "language": "python",
   "name": "python3"
  },
  "language_info": {
   "codemirror_mode": {
    "name": "ipython",
    "version": 3
   },
   "file_extension": ".py",
   "mimetype": "text/x-python",
   "name": "python",
   "nbconvert_exporter": "python",
   "pygments_lexer": "ipython3",
   "version": "3.7.4"
  }
 },
 "nbformat": 4,
 "nbformat_minor": 2
}
