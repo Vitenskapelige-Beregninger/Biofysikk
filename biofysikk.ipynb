{
 "cells": [
  {
   "cell_type": "code",
   "execution_count": 23,
   "metadata": {},
   "outputs": [
    {
     "data": {
      "image/png": "[encoded data removed]",
      "text/plain": [
       "<Figure size 432x288 with 1 Axes>"
      ]
     },
     "metadata": {
      "needs_background": "light"
     },
     "output_type": "display_data"
    }
   ],
   "source": [
    "#Oppgave 1 a) og b)\n",
    "import numpy as np\n",
    "import matplotlib.pyplot as plt\n",
    "\n",
    "def generate_grid_of_monomers(N,M):\n",
    "    grid = np.zeros((N,N)) #lager et grid av riktig størrelse fylt av nuller\n",
    "    for i in range(M):\n",
    "        randomPosition = (np.random.randint(N),np.random.randint(N)) #velger tilfeldig koordinat\n",
    "        while grid[randomPosition] != 0:  #hvis koordinatet ikke er opptatt setter vi en positiv monomer der, til vi har M stk\n",
    "            randomPosition = (np.random.randint(N),np.random.randint(N))\n",
    "        grid[randomPosition] = 1\n",
    "    for i in range(M):\n",
    "        randomPosition = (np.random.randint(N),np.random.randint(N)) #så det samme for negative monomerer\n",
    "        while grid[randomPosition] != 0:\n",
    "            randomPosition = (np.random.randint(N),np.random.randint(N))\n",
    "        grid[randomPosition] = -1\n",
    "    return grid\n",
    "    \n",
    "\n",
    "def visualize_grid(grid):\n",
    "    plt.pcolormesh(grid[::-1],cmap='PiYG')\n",
    "\n",
    "forsok1 = generate_grid_of_monomers(25,15)\n",
    "#print(forsok1)\n",
    "#print(forsok1[3][4])\n",
    "visualize_grid(forsok1)"
   ]
  },
  {
   "cell_type": "code",
   "execution_count": null,
   "metadata": {},
   "outputs": [],
   "source": [
    "\n",
    "N_s=50000\n",
    "grid=generate_grid_of_monomers(25,15)\n",
    "T_1=200\n",
    "T_2=500\n",
    "timesteps = np.linspace(0,N_s,num=1000)\n",
    "low_T_energy, low_T_grid = monte_carlo(T_1, N_s, grid)\n",
    "np.savez('lowTsimulation.npz', low_T_grid=low_T_grid)\n",
    "\n",
    "high_T_energy, high_T_grid = monte_carlo(T_1, N_s, grid)\n",
    "\n",
    "plt.title('Energy as a function of time for T=200K and T=300K') \n",
    "plt.plot(timesteps, low_T_energy, 'c')\n",
    "plt.plot(timesteps, high_T_energy, 'm')\n",
    "plt.legend(['time','system energy'])\n",
    "plt.grid(True)\n",
    "\n",
    "plt.show()\n",
    "'''t_equil is larger for higher teperatures as the likelihood of monomers moving away from minima is larger,\n",
    "i.e. monomers move more frequently as the direction of movement does not alway have to be more optional, therefore they \n",
    "\"push on\" their neighbors more and make them unstable in their equilibrium points'''"
   ]
  },
  {
   "cell_type": "code",
   "execution_count": null,
   "metadata": {},
   "outputs": [],
   "source": [
    "#Oppgave 1 g)\n",
    "def generate_cluster_grid(grid):\n",
    "    cluster_number = 2 #starter på 2 fordi monomerer allerede har verdi 1\n",
    "    for monomer in np.argwhere(grid=!0): #finner koordinater til punkter i grid som ikke er lik 0\n",
    "        grid[monomer[0]][monomer[1]] = cluster_number #lager nytt cluster\n",
    "        for neighbor in nearest_neighbors(monomer):\n",
    "            if(grid[neighbor[0]][neighbor[1]]<grid[monomer[0]][monomer[1]]) and (grid[neighbor[0]][neighbor[1]]>=2):\n",
    "                for cluster_item in np.argwhere(grid == grid[monomer[0]][monomer[1]]):\n",
    "                    grid[cluster_item[0],cluster_item[1]] = grid[neighbor[0]][neighbor[1]]\n",
    "            else:\n",
    "                grid[neighbor[0]][neighbor[1]] = grid[monomer[0]][monomer[1]]\n",
    "                    \n",
    "                '''merger cluster ved å gi alle monomerer i clusteret med høyest verdi verdien til det clusteret\n",
    "                som er \"eldst\", dvs. lavest cluster verdi over 2, hvis ikke naboen er del av et eksisterende cluster,\n",
    "                legger vi til naboen i monomerens cluster'''\n",
    "        cluster_number += 1\n",
    "    return grid\n",
    "\n",
    "\n",
    "lowTgrid = np.load('lowTsimulation.npz')['lowTgrid']\n",
    "\n",
    "visualize_grid(lowTgrid)\n",
    "visualize_grid(generate_cluster_grid(lowTgrid))\n",
    "plt.show()"
   ]
  }
 ],
 "metadata": {
  "kernelspec": {
   "display_name": "Python 3",
   "language": "python",
   "name": "python3"
  },
  "language_info": {
   "codemirror_mode": {
    "name": "ipython",
    "version": 3
   },
   "file_extension": ".py",
   "mimetype": "text/x-python",
   "name": "python",
   "nbconvert_exporter": "python",
   "pygments_lexer": "ipython3",
   "version": "3.7.4"
  }
 },
 "nbformat": 4,
 "nbformat_minor": 2
}
