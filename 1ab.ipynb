{
 "cells": [
  {
   "cell_type": "markdown",
   "metadata": {},
   "source": [
    "Prosjekt oppgave 1a og b"
   ]
  },
  {
   "cell_type": "code",
   "execution_count": 41,
   "metadata": {},
   "outputs": [
    {
     "name": "stdout",
     "output_type": "stream",
     "text": [
      "[[ 0.  1. -1.  0.  0.  0.  0.  0.  0.  0.]\n",
      " [ 0.  0.  0.  0.  0.  0.  0.  0.  0.  0.]\n",
      " [ 0.  0.  0.  0.  0.  0.  0.  0.  0.  0.]\n",
      " [ 0.  0.  0.  0.  0.  0.  1.  0.  0.  0.]\n",
      " [ 0.  0.  0.  0. -1.  0.  0.  0.  0. -1.]\n",
      " [ 0.  0.  1.  0.  0.  0.  0.  0.  0.  0.]\n",
      " [ 0.  0.  0.  0.  0.  0.  0.  0.  0.  0.]\n",
      " [ 0. -1.  0.  0.  0.  0.  0.  0.  0.  0.]\n",
      " [ 0.  0.  0.  0.  0.  0.  0.  0.  0. -1.]\n",
      " [ 0.  0.  1.  0.  0.  1.  0.  0.  0.  0.]]\n",
      "0.0\n"
     ]
    },
    {
     "data": {
      "text/plain": [
       "<matplotlib.collections.QuadMesh at 0x2521cd74948>"
      ]
     },
     "execution_count": 41,
     "metadata": {},
     "output_type": "execute_result"
    },
    {
     "data": {
      "image/png": "[encoded data removed]",
      "text/plain": [
       "<Figure size 432x288 with 1 Axes>"
      ]
     },
     "metadata": {
      "needs_background": "light"
     },
     "output_type": "display_data"
    }
   ],
   "source": [
    "\n",
    "import numpy as np\n",
    "import matplotlib.pyplot as plt\n",
    "\n",
    "def monomer_grid(N,M):\n",
    "    grid = np.zeros((N,N))\n",
    "    for i in range(M):\n",
    "        randomPosition = (np.random.randint(N),np.random.randint(N))\n",
    "        while grid[randomPosition] != 0:\n",
    "            randomPosition = (np.random.randint(N),np.random.randint(N))\n",
    "        grid[randomPosition] = 1\n",
    "    for i in range(M):\n",
    "        randomPosition = (np.random.randint(N),np.random.randint(N))\n",
    "        while grid[randomPosition] != 0:\n",
    "            randomPosition = (np.random.randint(N),np.random.randint(N))\n",
    "        grid[randomPosition] = -1\n",
    "    return grid\n",
    "    \n",
    "\n",
    "forsok1 = monomer_grid(10,5)\n",
    "print(forsok1)\n",
    "print(forsok1[3][4])\n",
    "plt.pcolormesh(forsok1[::-1],cmap='PiYG')"
   ]
  }
 ],
 "metadata": {
  "kernelspec": {
   "display_name": "Python 3",
   "language": "python",
   "name": "python3"
  },
  "language_info": {
   "codemirror_mode": {
    "name": "ipython",
    "version": 3
   },
   "file_extension": ".py",
   "mimetype": "text/x-python",
   "name": "python",
   "nbconvert_exporter": "python",
   "pygments_lexer": "ipython3",
   "version": "3.7.4"
  }
 },
 "nbformat": 4,
 "nbformat_minor": 2
}
